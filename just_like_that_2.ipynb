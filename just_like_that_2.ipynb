{
 "cells": [
  {
   "cell_type": "code",
   "execution_count": 15,
   "metadata": {},
   "outputs": [
    {
     "name": "stdout",
     "output_type": "stream",
     "text": [
      "ChainMap({'a': 1, 'b': 2}, {'c': 3, 'd': 4})\n",
      "\n",
      "\n",
      "Counter({1: 2, 2: 2, 3: 1})\n",
      "[(1, 2), (2, 2)]\n",
      "Counter({'s': 1, 'u': 1, 'p': 1, 'e': 1, 'r': 1})\n"
     ]
    }
   ],
   "source": [
    "#Collection modules;\n",
    "\n",
    "#Merge dict\n",
    "\n",
    "from collections import ChainMap\n",
    "\n",
    "d1 = { 'a': 1, 'b': 2 }\n",
    "d2 = { 'c': 3, 'd': 4 }\n",
    "\n",
    "merge = ChainMap( d1, d2 )\n",
    "print( merge)\n",
    "\n",
    "print(\"\\n\")\n",
    "#Counter: sub-class of dict and returns counter.\n",
    "from collections import Counter\n",
    "\n",
    "input_list = [ 1,2,3,2,1]\n",
    "counter = Counter( input_list)\n",
    "\n",
    "print(counter)\n",
    "print( counter.most_common(2))\n",
    "\n",
    "c1 = Counter('super')\n",
    "c2 = Counter('superman')\n",
    "\n",
    "c2.subtract(c1) #substract\n",
    "print(c1)\n"
   ]
  },
  {
   "cell_type": "code",
   "execution_count": 23,
   "metadata": {},
   "outputs": [
    {
     "name": "stdout",
     "output_type": "stream",
     "text": [
      "defaultdict(<class 'int'>, {'The': 1, 'red': 1, 'for': 2, 'jumped': 1, 'over': 1, 'the': 2, 'fence': 1, 'and': 1, 'ran': 1, 'to': 1, 'zoo': 1, 'food': 1})\n",
      "\n",
      "\n",
      "defaultdict(<class 'list'>, {1234: [100.23, 75.0, 35.67], 345: [10.45, 222.66], 678: [300.25]})\n",
      "Monkey\n"
     ]
    }
   ],
   "source": [
    "#defaultdict: sub-class of dict and accepts a default_factory as its primary arguemnt ( int, lambda, list )\n",
    "\n",
    "#count number of times each word in sentences;\n",
    "\n",
    "from collections import defaultdict\n",
    "sentence = \"The red for jumped over the fence and ran to the zoo for food\"\n",
    "words = sentence.split(' ')\n",
    "\n",
    "d = defaultdict(int)\n",
    "\n",
    "for word in words:\n",
    "    d[word] += 1\n",
    "print(d)\n",
    "\n",
    "print(\"\\n\")\n",
    "\n",
    "# one key and more values to append;\n",
    "my_list = [(1234, 100.23), (345, 10.45), (1234, 75.00), (345, 222.66), (678, 300.25), (1234, 35.67)]\n",
    "d = defaultdict(list)\n",
    "for acct_num, value in my_list:\n",
    "    d[acct_num].append(value)\n",
    "\n",
    "print(d)\n",
    "\n",
    "#Default values for key;\n",
    "\n",
    "animal = defaultdict( lambda: \"Monkey\" )\n",
    "animal['sam'] = 'Tiger'\n",
    "print(animal['harsha']) #print default value"
   ]
  },
  {
   "cell_type": "code",
   "execution_count": 30,
   "metadata": {},
   "outputs": [
    {
     "name": "stdout",
     "output_type": "stream",
     "text": [
      "a\n",
      "b\n",
      "c\n",
      "d\n",
      "e\n",
      "f\n",
      "g\n",
      "h\n",
      "i\n",
      "j\n",
      "k\n",
      "l\n",
      "m\n",
      "n\n",
      "o\n",
      "p\n",
      "q\n",
      "r\n",
      "s\n",
      "t\n",
      "u\n",
      "v\n",
      "w\n",
      "x\n",
      "y\n",
      "z\n",
      "deque(['test', 'a', 'b', 'c', 'd', 'e', 'f', 'g', 'h', 'i', 'j', 'k', 'l', 'm', 'n', 'o', 'p', 'q', 'r', 's', 't', 'u', 'v', 'w', 'x', 'y', 'z', 'bork'])\n",
      "deque(['bork', 'test', 'a', 'b', 'c', 'd', 'e', 'f', 'g', 'h', 'i', 'j', 'k', 'l', 'm', 'n', 'o', 'p', 'q', 'r', 's', 't', 'u', 'v', 'w', 'x', 'y', 'z'])\n"
     ]
    }
   ],
   "source": [
    "#deque: double-ended queue. this is replacement container for the list. supports appends and pop\n",
    "\n",
    "from collections import deque\n",
    "import string\n",
    "\n",
    "d = deque( string.ascii_lowercase )\n",
    "for letter in d:\n",
    "    print(letter)\n",
    "    \n",
    "#append\n",
    "d.append('bork') #default right-side\n",
    "d.appendleft(\"test\") #left side\n",
    "print(d)\n",
    "d.rotate(1)\n",
    "print(d)\n",
    "\n",
    "#tail equivalent:\n",
    "\n",
    "def get_last(filename, n=5 ):\n",
    "    '''\n",
    "    Returns the n last lines from the file\n",
    "    '''\n",
    "    try:\n",
    "        with open(filename) as f:\n",
    "            return deque(f,n)\n",
    "    except OSError:\n",
    "        print(\"Error opening file: {}\".format(filename))\n",
    "        raise\n",
    "            "
   ]
  },
  {
   "cell_type": "code",
   "execution_count": 11,
   "metadata": {},
   "outputs": [
    {
     "name": "stdout",
     "output_type": "stream",
     "text": [
      "Parts(id_num='1234', desc='Ford Engine', cost=1200.0, amount=10)\n",
      "1234\n",
      "\n",
      "\n",
      "Parts(id_num='1234', desc='Ford Engine', cost=1200.0, amount=10)\n"
     ]
    }
   ],
   "source": [
    "#named tuple: In tuple, keys are  index number.In case, keys are strings. can use named tuple.\n",
    "\n",
    "from collections import namedtuple\n",
    "\n",
    "Parts = namedtuple('Parts', 'id_num desc cost amount')\n",
    "auto_parts = Parts(id_num='1234', desc='Ford Engine', cost=1200.00, amount=10)\n",
    "\n",
    "print(auto_parts)\n",
    "print(auto_parts.id_num)\n",
    "\n",
    "#convert dict into an object\n",
    "Parts = {'id_num':'1234', 'desc':'Ford Engine','cost':1200.00, 'amount':10}\n",
    "parts = namedtuple('Parts', Parts.keys())(**Parts)\n",
    "\n",
    "print(\"\\n\")\n",
    "print(parts)"
   ]
  },
  {
   "cell_type": "code",
   "execution_count": 15,
   "metadata": {},
   "outputs": [
    {
     "name": "stdout",
     "output_type": "stream",
     "text": [
      "OrderedDict([('apple', 4), ('banana', 3), ('orange', 2), ('pear', 1)])\n",
      "pear 1\n",
      "orange 2\n",
      "banana 3\n",
      "apple 4\n"
     ]
    }
   ],
   "source": [
    "#OrderedDict: \n",
    "from collections import OrderedDict\n",
    "\n",
    "d = {'banana': 3, 'apple':4, 'pear': 1, 'orange': 2}\n",
    "new_d = OrderedDict(sorted(d.items()))\n",
    "print( new_d )\n",
    "\n",
    "#reverse\n",
    "for key in reversed(new_d):\n",
    "    print(key, new_d[key])"
   ]
  },
  {
   "cell_type": "code",
   "execution_count": 19,
   "metadata": {},
   "outputs": [
    {
     "name": "stdout",
     "output_type": "stream",
     "text": [
      "First arg type <class 'int'>\n",
      "2\n",
      "first arg type <class 'str'>\n",
      "pythoncoding\n",
      "first arg type <class 'list'>\n",
      "[1, 2, 3, 4, 5]\n"
     ]
    }
   ],
   "source": [
    "#function overloading with functools.singledispatch\n",
    "\n",
    "from functools import singledispatch\n",
    "\n",
    "@singledispatch\n",
    "def add(a, b):\n",
    "    raise NotImplementedError('Unsupported type')\n",
    "    \n",
    "@add.register(int)\n",
    "def _(a,b):\n",
    "    print(\"First arg type\", type(a) )\n",
    "    print(a + b)\n",
    "\n",
    "@add.register(str)\n",
    "def _(a,b):\n",
    "    print(\"first arg type\", type(a))\n",
    "    print(a + b)\n",
    "    \n",
    "@add.register(list)\n",
    "def _(a,b):\n",
    "    print(\"first arg type\", type(a))\n",
    "    print( a + b )\n",
    "    \n",
    "add(1,1)\n",
    "add(\"python\",\"coding\")\n",
    "add( [1,2,3], [4,5])\n",
    "    "
   ]
  },
  {
   "cell_type": "code",
   "execution_count": 23,
   "metadata": {},
   "outputs": [
    {
     "name": "stdout",
     "output_type": "stream",
     "text": [
      "First arg type <class 'int'>\n",
      "3\n",
      "First arg type <class 'list'>\n",
      "[1, 2, 4]\n"
     ]
    }
   ],
   "source": [
    "#OR \n",
    "@singledispatch\n",
    "def add(a, b):\n",
    "    raise NotImplementedError('Unsupported type')\n",
    "\n",
    "@add.register(list)\n",
    "@add.register(int)\n",
    "def _(a,b):\n",
    "    print(\"First arg type\", type(a) )\n",
    "    print(a + b)\n",
    "\n",
    "    \n",
    "add(1,2)\n",
    "add([1,2], [4])"
   ]
  },
  {
   "cell_type": "code",
   "execution_count": 28,
   "metadata": {},
   "outputs": [
    {
     "ename": "StopIteration",
     "evalue": "",
     "output_type": "error",
     "traceback": [
      "\u001b[1;31m---------------------------------------------------------------------------\u001b[0m",
      "\u001b[1;31mStopIteration\u001b[0m                             Traceback (most recent call last)",
      "\u001b[1;32m<ipython-input-28-ad71b600f623>\u001b[0m in \u001b[0;36m<module>\u001b[1;34m\u001b[0m\n\u001b[0;32m      6\u001b[0m \u001b[0mnext\u001b[0m\u001b[1;33m(\u001b[0m\u001b[0mlist_iterator\u001b[0m\u001b[1;33m)\u001b[0m\u001b[1;33m\u001b[0m\u001b[1;33m\u001b[0m\u001b[0m\n\u001b[0;32m      7\u001b[0m \u001b[0mnext\u001b[0m\u001b[1;33m(\u001b[0m\u001b[0mlist_iterator\u001b[0m\u001b[1;33m)\u001b[0m\u001b[1;33m\u001b[0m\u001b[1;33m\u001b[0m\u001b[0m\n\u001b[1;32m----> 8\u001b[1;33m \u001b[0mnext\u001b[0m\u001b[1;33m(\u001b[0m\u001b[0mlist_iterator\u001b[0m\u001b[1;33m)\u001b[0m \u001b[1;31m# once out-of index\u001b[0m\u001b[1;33m\u001b[0m\u001b[1;33m\u001b[0m\u001b[0m\n\u001b[0m",
      "\u001b[1;31mStopIteration\u001b[0m: "
     ]
    }
   ],
   "source": [
    "#Iterators: is an object that allow to iterate over a container.\n",
    "#implementing using __iter__ and __next__.\n",
    "\n",
    "my_list = [ 1,2 ]\n",
    "list_iterator = iter(my_list) #convert list to object\n",
    "next(list_iterator)\n",
    "next(list_iterator)\n",
    "next(list_iterator) # once out-of index"
   ]
  },
  {
   "cell_type": "code",
   "execution_count": 32,
   "metadata": {},
   "outputs": [
    {
     "name": "stdout",
     "output_type": "stream",
     "text": [
      "1\n",
      "[1, 2, 3]\n"
     ]
    }
   ],
   "source": [
    "#Generators: Normal function return only one value; Generators returns streams of value and faster.\n",
    "\n",
    "def f():\n",
    "    return 1\n",
    "    return 2\n",
    "\n",
    "print( f() )\n",
    "\n",
    "def g():\n",
    "    yield 1\n",
    "    yield 2\n",
    "    yield 3\n",
    "    \n",
    "print( list( g() ) )"
   ]
  },
  {
   "cell_type": "code",
   "execution_count": 84,
   "metadata": {},
   "outputs": [
    {
     "name": "stdout",
     "output_type": "stream",
     "text": [
      "10\n",
      "11\n",
      "12\n",
      "13\n",
      "14\n",
      "15\n",
      "\n",
      "\n",
      "3\n",
      "4\n",
      "\n",
      "\n"
     ]
    }
   ],
   "source": [
    "#Itertools are fast and memory efficient.\n",
    "\n",
    "from itertools import count,islice\n",
    "\n",
    "# count(start=0, step=1 )\n",
    "for i in count(10):\n",
    "    if i > 15:\n",
    "        break\n",
    "    else:\n",
    "        print(i)\n",
    "     \n",
    "print(\"\\n\")\n",
    "for j in islice( count(3), 2 ):\n",
    "    print(j)\n",
    "    \n",
    "print(\"\\n\")\n"
   ]
  },
  {
   "cell_type": "code",
   "execution_count": 86,
   "metadata": {},
   "outputs": [
    {
     "name": "stdout",
     "output_type": "stream",
     "text": [
      "1\n",
      "2\n",
      "3\n",
      "4\n"
     ]
    }
   ],
   "source": [
    "#islice: print 10 to 15\n",
    "from itertools import islice\n",
    "\n",
    "\n",
    "iterator = islice('123456', 4)\n",
    "for i in iterator:\n",
    "    print(i)\n",
    "    \n"
   ]
  },
  {
   "cell_type": "code",
   "execution_count": 39,
   "metadata": {},
   "outputs": [
    {
     "name": "stdout",
     "output_type": "stream",
     "text": [
      "X\n",
      "Y\n",
      "Z\n",
      "X\n",
      "Y\n",
      "Z\n"
     ]
    }
   ],
   "source": [
    "#cycle(data_type)\n",
    "from itertools import cycle\n",
    "count = 0\n",
    "for item in cycle('XYZ'):\n",
    "    if count > 5:\n",
    "        break\n",
    "    print(item)\n",
    "    count += 1"
   ]
  },
  {
   "cell_type": "code",
   "execution_count": 43,
   "metadata": {},
   "outputs": [
    {
     "name": "stdout",
     "output_type": "stream",
     "text": [
      "3\n",
      "3\n",
      "3\n",
      "3\n",
      "some_func\n",
      "some_func\n"
     ]
    }
   ],
   "source": [
    "#repeat(obejct): Repeat until set the value\n",
    "from itertools import repeat\n",
    "\n",
    "for i in repeat(3,4):\n",
    "    print(i)\n",
    "    \n",
    "def f():\n",
    "    return \"some_func\"\n",
    "\n",
    "#repeat the functions\n",
    "for i in repeat(f(), 2):\n",
    "    print(i)"
   ]
  },
  {
   "cell_type": "code",
   "execution_count": 49,
   "metadata": {},
   "outputs": [
    {
     "name": "stdout",
     "output_type": "stream",
     "text": [
      "['foo', 'bar', 0, 1, 2, 3, 4]\n",
      "['foo', 'bar', 0, 1, 2, 3, 4, 0, 1, 2, 3, 4]\n",
      "['foo', 'bar', 0, 1, 2, 3, 4, 0, 1, 2, 3, 4, 'foo', 'bar', 0, 1, 2, 3, 4, 0, 1, 2, 3, 4, 0, 1, 2, 3, 4]\n"
     ]
    }
   ],
   "source": [
    "#chain(*iterables): merge lists\n",
    "my_list = [ 'foo', 'bar' ]\n",
    "numbers = list( range(5))\n",
    "\n",
    "#method 1\n",
    "my_list.extend(numbers)\n",
    "\n",
    "print(my_list)\n",
    "\n",
    "from itertools import chain\n",
    "#method 2: best \n",
    "my_list = list(chain( my_list, numbers ))\n",
    "print(my_list)\n",
    "\n",
    "#method 3\n",
    "my_list += my_list + numbers\n",
    "print( my_list )"
   ]
  },
  {
   "cell_type": "code",
   "execution_count": 56,
   "metadata": {},
   "outputs": [
    {
     "name": "stdout",
     "output_type": "stream",
     "text": [
      "[6, 4, 1]\n",
      "[1, 2, 3, 10]\n"
     ]
    }
   ],
   "source": [
    "#dropwhile( predicate, iterable ):\n",
    "\n",
    "from itertools import dropwhile\n",
    "\n",
    "print( list(dropwhile(lambda x: x<5, [1,4,6,4,1])) ) # returns True or False\n",
    "\n",
    "def greater_than_five(x):\n",
    "    return x > 5\n",
    "\n",
    "print( list(dropwhile(greater_than_five, [6, 7, 8, 9, 1, 2, 3, 10])) ) # filter only True"
   ]
  },
  {
   "cell_type": "code",
   "execution_count": 57,
   "metadata": {},
   "outputs": [
    {
     "name": "stdout",
     "output_type": "stream",
     "text": [
      "[1, 2, 3]\n"
     ]
    }
   ],
   "source": [
    "#filter false(predicate, iterable)\n",
    "from itertools import filterfalse\n",
    "def greater_than_five(x):\n",
    "    return x > 5\n",
    "print( list(filterfalse(greater_than_five, [6, 7, 8, 9, 1, 2, 3, 10])) )"
   ]
  },
  {
   "cell_type": "code",
   "execution_count": 62,
   "metadata": {},
   "outputs": [
    {
     "name": "stdout",
     "output_type": "stream",
     "text": [
      "Chevrolet <itertools._grouper object at 0x000002394B68A978>\n",
      "('Chevrolet', 'Cobalt')\n",
      "Dodge <itertools._grouper object at 0x000002394B570390>\n",
      "('Dodge', 'Charger')\n",
      "('Dodge', 'Durango')\n",
      "Ford <itertools._grouper object at 0x000002394B68A978>\n",
      "('Ford', 'F150')\n",
      "('Ford', 'GT')\n",
      "('Ford', 'Taurus')\n"
     ]
    }
   ],
   "source": [
    "#groupby(iterable, key=None )\n",
    "from itertools import groupby\n",
    "\n",
    "vehicles = [('Ford', 'Taurus'), ('Dodge', 'Durango'), ('Chevrolet', 'Cobalt'), ('Ford', 'F150'), ('Dodge', 'Charger'), ('Ford', 'GT')]\n",
    "sorted_vehicles = sorted(vehicles)\n",
    "\n",
    "for key,group in groupby( sorted_vehicles, lambda make:make[0] ):\n",
    "    print(key, group )\n",
    "    for i in group:\n",
    "        print(i)"
   ]
  },
  {
   "cell_type": "code",
   "execution_count": 64,
   "metadata": {},
   "outputs": [
    {
     "name": "stdout",
     "output_type": "stream",
     "text": [
      "Cobalt is made by Chevrolet\n",
      "** end of the group **\n",
      "Charger is made by Dodge\n",
      "Durango is made by Dodge\n",
      "** end of the group **\n",
      "F150 is made by Ford\n",
      "GT is made by Ford\n",
      "Taurus is made by Ford\n",
      "** end of the group **\n"
     ]
    }
   ],
   "source": [
    "for key,group in groupby( sorted_vehicles, lambda make:make[0] ):\n",
    "    for make,model in group:\n",
    "        print(\"{} is made by {}\".format( model, make))\n",
    "    print(\"** end of the group **\")"
   ]
  },
  {
   "cell_type": "code",
   "execution_count": 87,
   "metadata": {},
   "outputs": [
    {
     "name": "stdout",
     "output_type": "stream",
     "text": [
      "5\n",
      "9\n"
     ]
    }
   ],
   "source": [
    "#starmap( function, iterable): difference between map (one value) and starmap(two value)\n",
    "from itertools import starmap\n",
    "\n",
    "def add(a,b):\n",
    "    return a + b\n",
    "\n",
    "for item in starmap( add, [ (2,3), (4,5)]):\n",
    "    print(item)"
   ]
  },
  {
   "cell_type": "code",
   "execution_count": 98,
   "metadata": {},
   "outputs": [
    {
     "ename": "TypeError",
     "evalue": "cannot unpack non-iterable int object",
     "output_type": "error",
     "traceback": [
      "\u001b[1;31m---------------------------------------------------------------------------\u001b[0m",
      "\u001b[1;31mTypeError\u001b[0m                                 Traceback (most recent call last)",
      "\u001b[1;32m<ipython-input-98-1ce0f1b13768>\u001b[0m in \u001b[0;36m<module>\u001b[1;34m\u001b[0m\n\u001b[0;32m      2\u001b[0m \u001b[1;32mfrom\u001b[0m \u001b[0mitertools\u001b[0m \u001b[1;32mimport\u001b[0m \u001b[0mtee\u001b[0m\u001b[1;33m\u001b[0m\u001b[1;33m\u001b[0m\u001b[0m\n\u001b[0;32m      3\u001b[0m \u001b[1;33m\u001b[0m\u001b[0m\n\u001b[1;32m----> 4\u001b[1;33m \u001b[0ma\u001b[0m\u001b[1;33m,\u001b[0m\u001b[0mb\u001b[0m \u001b[1;33m=\u001b[0m \u001b[1;36m2\u001b[0m\u001b[1;33m\u001b[0m\u001b[1;33m\u001b[0m\u001b[0m\n\u001b[0m",
      "\u001b[1;31mTypeError\u001b[0m: cannot unpack non-iterable int object"
     ]
    }
   ],
   "source": [
    "#tee(iterable, n=2): Not support for int type.\n",
    "from itertools import tee\n",
    "\n",
    "a,b = 2\n"
   ]
  },
  {
   "cell_type": "code",
   "execution_count": 99,
   "metadata": {},
   "outputs": [
    {
     "name": "stdout",
     "output_type": "stream",
     "text": [
      "['1']\n",
      "['1']\n"
     ]
    }
   ],
   "source": [
    "data = '1'\n",
    "iter1,iter2 = tee(data)\n",
    "\n",
    "print( list(iter1) )\n",
    "print( list(iter2))"
   ]
  },
  {
   "cell_type": "code",
   "execution_count": 103,
   "metadata": {},
   "outputs": [
    {
     "name": "stdout",
     "output_type": "stream",
     "text": [
      "[('a', 1), ('b', 2), ('c', 3), (None, 4)]\n",
      "[('a', 1), ('b', 2), ('c', 3), ('Missing', 4)]\n"
     ]
    }
   ],
   "source": [
    "#zip_longest( *iterables, fillvalue=None) and return tuple\n",
    "\n",
    "from itertools import zip_longest\n",
    "\n",
    "keys = [ 'a', 'b', 'c']\n",
    "values = [ 1, 2, 3, 4 ]\n",
    "\n",
    "d = zip_longest( keys, values) # defalt its None\n",
    "print( list(d) )\n",
    "\n",
    "d = zip_longest( keys, values, fillvalue='Missing')\n",
    "print( list(d))"
   ]
  },
  {
   "cell_type": "code",
   "execution_count": 106,
   "metadata": {},
   "outputs": [
    {
     "name": "stdout",
     "output_type": "stream",
     "text": [
      "[('W', 'X'), ('W', 'Y'), ('W', 'Z'), ('X', 'Y'), ('X', 'Z'), ('Y', 'Z')]\n",
      "[('W', 'W'), ('W', 'X'), ('W', 'Y'), ('W', 'Z'), ('X', 'X'), ('X', 'Y'), ('X', 'Z'), ('Y', 'Y'), ('Y', 'Z'), ('Z', 'Z')]\n"
     ]
    }
   ],
   "source": [
    "#combinations:\n",
    "from itertools import combinations, combinations_with_replacement\n",
    "\n",
    "\n",
    "print( list(combinations('WXYZ', 2)) )\n",
    "\n",
    "print( list( combinations_with_replacement('WXYZ', 2)) )"
   ]
  },
  {
   "cell_type": "code",
   "execution_count": 107,
   "metadata": {},
   "outputs": [
    {
     "data": {
      "text/plain": [
       "[(-1, -3, -5),\n",
       " (-1, -3, 5),\n",
       " (-1, 3, -5),\n",
       " (-1, 3, 5),\n",
       " (1, -3, -5),\n",
       " (1, -3, 5),\n",
       " (1, 3, -5),\n",
       " (1, 3, 5)]"
      ]
     },
     "execution_count": 107,
     "metadata": {},
     "output_type": "execute_result"
    }
   ],
   "source": [
    "#product(*iterables, repeat=1 ): cartesian product\n",
    "\n",
    "from itertools import product\n",
    "arrays = [ (-1,1), (-3,3), (-5,5)]\n",
    "\n",
    "cp = list(product(*arrays))\n",
    "cp"
   ]
  },
  {
   "cell_type": "code",
   "execution_count": 108,
   "metadata": {},
   "outputs": [
    {
     "data": {
      "text/plain": [
       "[('x', 'y'), ('x', 'z'), ('y', 'x'), ('y', 'z'), ('z', 'x'), ('z', 'y')]"
      ]
     },
     "execution_count": 108,
     "metadata": {},
     "output_type": "execute_result"
    }
   ],
   "source": [
    "#Permutations:\n",
    "from itertools import permutations\n",
    "\n",
    "list(permutations('xyz', 2))"
   ]
  },
  {
   "cell_type": "code",
   "execution_count": 113,
   "metadata": {},
   "outputs": [
    {
     "name": "stdout",
     "output_type": "stream",
     "text": [
      "[2, 4, 6, 8]\n",
      "[2, 4, 6, 8]\n"
     ]
    }
   ],
   "source": [
    "#map(function, iterable) and return iterator\n",
    "def fun(x):\n",
    "    return x * 2\n",
    "\n",
    "my_list = [1,2,3,4]\n",
    "\n",
    "print( list( map( fun, my_list)) )\n",
    "\n",
    "#OR\n",
    "print ( [ fun(i) for i in my_list ] )"
   ]
  },
  {
   "cell_type": "code",
   "execution_count": 116,
   "metadata": {},
   "outputs": [
    {
     "data": {
      "text/plain": [
       "4"
      ]
     },
     "execution_count": 116,
     "metadata": {},
     "output_type": "execute_result"
    }
   ],
   "source": [
    "\n",
    "def find_min(sequence):\n",
    "    low = sequence[0]\n",
    "    for i in sequence:\n",
    "        if i < low:\n",
    "            low = i\n",
    "    return low\n",
    "\n",
    "def find_max(sequence):\n",
    "    high = sequence[0]\n",
    "    for i in sequence:\n",
    "        if i > high:\n",
    "            high = i\n",
    "    return high\n",
    "\n",
    "my_list = [ 1,4,2,0]\n",
    "\n",
    "find_min(my_list)\n",
    "find_max(my_list)"
   ]
  },
  {
   "cell_type": "code",
   "execution_count": 123,
   "metadata": {},
   "outputs": [
    {
     "name": "stdout",
     "output_type": "stream",
     "text": [
      "Wall time: 0 ns\n"
     ]
    },
    {
     "data": {
      "text/plain": [
       "[2, 3, 5, 7]"
      ]
     },
     "execution_count": 123,
     "metadata": {},
     "output_type": "execute_result"
    }
   ],
   "source": [
    "#prime number:\n",
    "%time\n",
    "def prime_num(num):\n",
    "    primes = []\n",
    "    for possibleprime in range(2, num + 1 ):\n",
    "        isPrime = True\n",
    "        for num in range(2, int(possibleprime ** 0.5 ) + 1 ):\n",
    "            if possibleprime % num == 0:\n",
    "                isPrime = False\n",
    "                break\n",
    "        if isPrime:\n",
    "            primes.append(possibleprime)\n",
    "    return primes\n",
    "\n",
    "prime_num(10)"
   ]
  },
  {
   "cell_type": "code",
   "execution_count": 132,
   "metadata": {},
   "outputs": [
    {
     "name": "stdout",
     "output_type": "stream",
     "text": [
      "  0:   0\n",
      "  1:   1\n",
      "  2:   1\n",
      "  3:   2\n",
      "  4:   3\n",
      "  5:   5\n",
      "  6:   8\n",
      "  7:  13\n",
      "  8:  21\n",
      "  9:  34\n"
     ]
    }
   ],
   "source": [
    "def fib():\n",
    "    a,b = 0,1\n",
    "    while True:\n",
    "        yield a\n",
    "        a,b = b, a + b\n",
    "\n",
    "for index,fib_num in zip(range(10), fib() ):\n",
    "    print('{i:3}: {f:3}'.format(i=index, f=fib_num))"
   ]
  },
  {
   "cell_type": "code",
   "execution_count": 135,
   "metadata": {},
   "outputs": [
    {
     "name": "stdout",
     "output_type": "stream",
     "text": [
      "6\n",
      "28\n",
      "496\n"
     ]
    }
   ],
   "source": [
    "#Perfect numbers\n",
    "for c in range(1,500):\n",
    "    if sum( x for x in range(1,c) if not c%x ) == c:\n",
    "        print(c)"
   ]
  },
  {
   "cell_type": "code",
   "execution_count": 4,
   "metadata": {},
   "outputs": [
    {
     "data": {
      "text/plain": [
       "[0, 1, 2, 3]"
      ]
     },
     "execution_count": 4,
     "metadata": {},
     "output_type": "execute_result"
    }
   ],
   "source": [
    "#Bubble sort:\n",
    "\n",
    "def bubble_sort(arr):\n",
    "    n = len(arr)\n",
    "    \n",
    "    for i in range(n):\n",
    "        for j in range(0, n-i-1):\n",
    "            if arr[j] > arr[j+1]:\n",
    "                arr[j],arr[j+1] = arr[j+1],arr[j]\n",
    "    return arr\n",
    "\n",
    "arr = [1,3,2,0]\n",
    "bubble_sort(arr)\n"
   ]
  },
  {
   "cell_type": "code",
   "execution_count": 6,
   "metadata": {},
   "outputs": [
    {
     "data": {
      "text/plain": [
       "[0, 1, 2, 3]"
      ]
     },
     "execution_count": 6,
     "metadata": {},
     "output_type": "execute_result"
    }
   ],
   "source": [
    "#Selection sort:\n",
    "\n",
    "def selection_sort(arr):\n",
    "    for i in range(len(arr)):\n",
    "        min_idx = i\n",
    "        for j in range(i+1, len(arr)):\n",
    "            if arr[min_idx] > arr[j]:\n",
    "                min_idx = j\n",
    "        #swap once found the min element\n",
    "        arr[i],arr[min_idx] = arr[min_idx],arr[i]\n",
    "        \n",
    "    return arr\n",
    "arr = [ 1,3,2,0]\n",
    "selection_sort(arr)"
   ]
  },
  {
   "cell_type": "code",
   "execution_count": 8,
   "metadata": {},
   "outputs": [
    {
     "data": {
      "text/plain": [
       "[0, 1, 3]"
      ]
     },
     "execution_count": 8,
     "metadata": {},
     "output_type": "execute_result"
    }
   ],
   "source": [
    "def insertion_sort(arr):\n",
    "    for i in range(1, len(arr)):\n",
    "        key = arr[i]\n",
    "        j = i - 1 #move elements of arr[0..i-1]\n",
    "        \n",
    "        while j >= 0 and key < arr[j]:\n",
    "            arr[j+1] = arr[j]\n",
    "            j -= 1\n",
    "        arr[j+1] = key\n",
    "        \n",
    "    return arr\n",
    "arr=[3,1,0]\n",
    "insertion_sort(arr)"
   ]
  },
  {
   "cell_type": "code",
   "execution_count": 4,
   "metadata": {},
   "outputs": [
    {
     "name": "stdout",
     "output_type": "stream",
     "text": [
      "1\n",
      "False\n"
     ]
    }
   ],
   "source": [
    "#count sort:\n",
    "\n",
    "def binary_search(input_list, value ):\n",
    "    low = 0\n",
    "    high = len(input_list) - 1\n",
    "    while low <= high:\n",
    "        mid = (low + high) // 2\n",
    "        if input_list[mid] > value:\n",
    "            high = mid - 1\n",
    "        elif input_list[mid] < value:\n",
    "            low = mid + 1\n",
    "        else:\n",
    "            return mid\n",
    "    return False\n",
    "\n",
    "print( binary_search([3,1,2], 1) )\n",
    "print( binary_search([3,1,2], 0)    ) "
   ]
  },
  {
   "cell_type": "code",
   "execution_count": 8,
   "metadata": {},
   "outputs": [
    {
     "data": {
      "text/plain": [
       "[0, 0, 1, 1]"
      ]
     },
     "execution_count": 8,
     "metadata": {},
     "output_type": "execute_result"
    }
   ],
   "source": [
    "#seperate 0s and 1s\n",
    "\n",
    "def seperate_0_1( input_list ):\n",
    "    low = 0\n",
    "    high = len(input_list) - 1\n",
    "    while( low < high ):\n",
    "        if ( input_list[low] == 0 and low < high ):\n",
    "            low += 1\n",
    "        if ( input_list[high] == 1 and low < high ):\n",
    "            high -= 1\n",
    "        if ( low < high ):\n",
    "            input_list[low], input_list[high] = input_list[high], input_list[low]\n",
    "            low += 1\n",
    "            high -= 1\n",
    "    return input_list\n",
    "            \n",
    "seperate_0_1([ 0,1,0,1])\n",
    "    "
   ]
  },
  {
   "cell_type": "code",
   "execution_count": 5,
   "metadata": {},
   "outputs": [
    {
     "name": "stdout",
     "output_type": "stream",
     "text": [
      "one\n"
     ]
    },
    {
     "ename": "Exception",
     "evalue": "No case found!",
     "output_type": "error",
     "traceback": [
      "\u001b[1;31m---------------------------------------------------------------------------\u001b[0m",
      "\u001b[1;31mException\u001b[0m                                 Traceback (most recent call last)",
      "\u001b[1;32m<ipython-input-5-c38a91c251f6>\u001b[0m in \u001b[0;36m<module>\u001b[1;34m\u001b[0m\n\u001b[0;32m     11\u001b[0m \u001b[1;33m\u001b[0m\u001b[0m\n\u001b[0;32m     12\u001b[0m \u001b[0mprint\u001b[0m\u001b[1;33m(\u001b[0m \u001b[0mswitch\u001b[0m\u001b[1;33m.\u001b[0m\u001b[0mget\u001b[0m\u001b[1;33m(\u001b[0m\u001b[1;36m1\u001b[0m\u001b[1;33m,\u001b[0m \u001b[0mdefault_case\u001b[0m\u001b[1;33m)\u001b[0m\u001b[1;33m(\u001b[0m\u001b[1;33m)\u001b[0m\u001b[1;33m)\u001b[0m\u001b[1;33m\u001b[0m\u001b[1;33m\u001b[0m\u001b[0m\n\u001b[1;32m---> 13\u001b[1;33m \u001b[0mprint\u001b[0m\u001b[1;33m(\u001b[0m \u001b[0mswitch\u001b[0m\u001b[1;33m.\u001b[0m\u001b[0mget\u001b[0m\u001b[1;33m(\u001b[0m\u001b[1;36m3\u001b[0m\u001b[1;33m,\u001b[0m \u001b[0mdefault_case\u001b[0m\u001b[1;33m)\u001b[0m\u001b[1;33m(\u001b[0m\u001b[1;33m)\u001b[0m\u001b[1;33m)\u001b[0m\u001b[1;33m\u001b[0m\u001b[1;33m\u001b[0m\u001b[0m\n\u001b[0m",
      "\u001b[1;32m<ipython-input-5-c38a91c251f6>\u001b[0m in \u001b[0;36mdefault_case\u001b[1;34m()\u001b[0m\n\u001b[0;32m      8\u001b[0m \u001b[1;32mdef\u001b[0m \u001b[0mdefault_case\u001b[0m\u001b[1;33m(\u001b[0m\u001b[1;33m)\u001b[0m\u001b[1;33m:\u001b[0m\u001b[1;33m\u001b[0m\u001b[1;33m\u001b[0m\u001b[0m\n\u001b[0;32m      9\u001b[0m     \u001b[1;31m#default function\u001b[0m\u001b[1;33m\u001b[0m\u001b[1;33m\u001b[0m\u001b[1;33m\u001b[0m\u001b[0m\n\u001b[1;32m---> 10\u001b[1;33m     \u001b[1;32mraise\u001b[0m \u001b[0mException\u001b[0m\u001b[1;33m(\u001b[0m\u001b[1;34m\"No case found!\"\u001b[0m\u001b[1;33m)\u001b[0m\u001b[1;33m\u001b[0m\u001b[1;33m\u001b[0m\u001b[0m\n\u001b[0m\u001b[0;32m     11\u001b[0m \u001b[1;33m\u001b[0m\u001b[0m\n\u001b[0;32m     12\u001b[0m \u001b[0mprint\u001b[0m\u001b[1;33m(\u001b[0m \u001b[0mswitch\u001b[0m\u001b[1;33m.\u001b[0m\u001b[0mget\u001b[0m\u001b[1;33m(\u001b[0m\u001b[1;36m1\u001b[0m\u001b[1;33m,\u001b[0m \u001b[0mdefault_case\u001b[0m\u001b[1;33m)\u001b[0m\u001b[1;33m(\u001b[0m\u001b[1;33m)\u001b[0m\u001b[1;33m)\u001b[0m\u001b[1;33m\u001b[0m\u001b[1;33m\u001b[0m\u001b[0m\n",
      "\u001b[1;31mException\u001b[0m: No case found!"
     ]
    }
   ],
   "source": [
    "#create switch statements\n",
    "\n",
    "switch = {\n",
    "    1: lambda: 'one',\n",
    "    2: lambda: 'two'\n",
    "}\n",
    "\n",
    "def default_case():\n",
    "    #default function\n",
    "    raise Exception(\"No case found!\")\n",
    "    \n",
    "print( switch.get(1, default_case)())\n",
    "print( switch.get(3, default_case)())"
   ]
  },
  {
   "cell_type": "code",
   "execution_count": 12,
   "metadata": {},
   "outputs": [
    {
     "name": "stdout",
     "output_type": "stream",
     "text": [
      "one\n"
     ]
    },
    {
     "ename": "Exception",
     "evalue": "Not a case!",
     "output_type": "error",
     "traceback": [
      "\u001b[1;31m---------------------------------------------------------------------------\u001b[0m",
      "\u001b[1;31mException\u001b[0m                                 Traceback (most recent call last)",
      "\u001b[1;32m<ipython-input-12-7cac718a9310>\u001b[0m in \u001b[0;36m<module>\u001b[1;34m\u001b[0m\n\u001b[0;32m     21\u001b[0m \u001b[1;33m\u001b[0m\u001b[0m\n\u001b[0;32m     22\u001b[0m \u001b[0mprint\u001b[0m\u001b[1;33m(\u001b[0m\u001b[0mrun_switch\u001b[0m\u001b[1;33m(\u001b[0m\u001b[1;36m1\u001b[0m\u001b[1;33m)\u001b[0m\u001b[1;33m)\u001b[0m\u001b[1;33m\u001b[0m\u001b[1;33m\u001b[0m\u001b[0m\n\u001b[1;32m---> 23\u001b[1;33m \u001b[0mprint\u001b[0m\u001b[1;33m(\u001b[0m \u001b[0mrun_switch\u001b[0m\u001b[1;33m(\u001b[0m\u001b[1;36m3\u001b[0m\u001b[1;33m)\u001b[0m\u001b[1;33m)\u001b[0m\u001b[1;33m\u001b[0m\u001b[1;33m\u001b[0m\u001b[0m\n\u001b[0m",
      "\u001b[1;32m<ipython-input-12-7cac718a9310>\u001b[0m in \u001b[0;36mrun_switch\u001b[1;34m(value)\u001b[0m\n\u001b[0;32m     18\u001b[0m             \u001b[1;32mreturn\u001b[0m \u001b[1;34m'two'\u001b[0m\u001b[1;33m\u001b[0m\u001b[1;33m\u001b[0m\u001b[0m\n\u001b[0;32m     19\u001b[0m         \u001b[1;31m#default\u001b[0m\u001b[1;33m\u001b[0m\u001b[1;33m\u001b[0m\u001b[1;33m\u001b[0m\u001b[0m\n\u001b[1;32m---> 20\u001b[1;33m         \u001b[1;32mraise\u001b[0m \u001b[0mException\u001b[0m\u001b[1;33m(\u001b[0m\u001b[1;34m'Not a case!'\u001b[0m\u001b[1;33m)\u001b[0m\u001b[1;33m\u001b[0m\u001b[1;33m\u001b[0m\u001b[0m\n\u001b[0m\u001b[0;32m     21\u001b[0m \u001b[1;33m\u001b[0m\u001b[0m\n\u001b[0;32m     22\u001b[0m \u001b[0mprint\u001b[0m\u001b[1;33m(\u001b[0m\u001b[0mrun_switch\u001b[0m\u001b[1;33m(\u001b[0m\u001b[1;36m1\u001b[0m\u001b[1;33m)\u001b[0m\u001b[1;33m)\u001b[0m\u001b[1;33m\u001b[0m\u001b[1;33m\u001b[0m\u001b[0m\n",
      "\u001b[1;31mException\u001b[0m: Not a case!"
     ]
    }
   ],
   "source": [
    "#Method_2 Using context manager;\n",
    "\n",
    "class Switch:\n",
    "    def __init__(self, value):\n",
    "        self.val = value\n",
    "    def __enter__(self):\n",
    "        return self\n",
    "    def __call__(self, cond, *mconds ):\n",
    "        return self.val in (cond,) + mconds\n",
    "    def __exit__(self, type,value, traceback):\n",
    "        return False #Allows traceback to occur\n",
    "    \n",
    "def run_switch(value):\n",
    "    with Switch(value) as case:\n",
    "        if case(1):\n",
    "            return 'one'\n",
    "        if case(2):\n",
    "            return 'two'\n",
    "        #default\n",
    "        raise Exception('Not a case!')\n",
    "        \n",
    "print(run_switch(1))\n",
    "print( run_switch(3))"
   ]
  },
  {
   "cell_type": "code",
   "execution_count": 15,
   "metadata": {},
   "outputs": [
    {
     "name": "stdout",
     "output_type": "stream",
     "text": [
      "{'A': ['A', 'A', 'A', 'A', 'A', 'A'], 'B': ['B', 'B', 'B', 'B', 'B', 'B'], 'C': ['C', 'C'], 'D': ['D']}\n"
     ]
    }
   ],
   "source": [
    "#Groupby:\n",
    "s = 'AAAABBBCCDAABBB'\n",
    "s_dict = {}\n",
    "\n",
    "#Using list\n",
    "for i in s:\n",
    "    if i not in s_dict.keys():\n",
    "        s_dict[i] = [i]\n",
    "    else:\n",
    "        s_dict[i].append(i)\n",
    "        \n",
    "print( s_dict )\n"
   ]
  },
  {
   "cell_type": "code",
   "execution_count": 20,
   "metadata": {},
   "outputs": [
    {
     "name": "stdout",
     "output_type": "stream",
     "text": [
      "{'A': ['A', 'A'], 'B': ['B', 'B', 'B'], 'C': ['C', 'C'], 'D': ['D']}\n",
      "\n",
      "{'A': ['A', 'A'], 'B': ['B', 'B', 'B'], 'C': ['C', 'C'], 'D': ['D'], 'goat': ['goat'], 'dog': ['dog'], 'cow': ['cow'], 1: [1, 1], 2: [2], 3: [3], 11: [11], 10: [10], ('persons', 'man', 'woman'): [('persons', 'man', 'woman')]}\n"
     ]
    }
   ],
   "source": [
    "from itertools import groupby\n",
    "\n",
    "c = groupby(s)\n",
    "dic = {}\n",
    "\n",
    "for k,v in c:\n",
    "    dic[k] = list(v)\n",
    "print(dic)\n",
    "print()\n",
    "\n",
    "c = groupby(['goat', 'dog', 'cow', 1, 1, 2, 3, 11, 10, ('persons', 'man', 'woman')])\n",
    "for k,v in c:\n",
    "    dic[k] = list(v)\n",
    "print(dic)"
   ]
  },
  {
   "cell_type": "code",
   "execution_count": 21,
   "metadata": {},
   "outputs": [
    {
     "data": {
      "text/plain": [
       "{'g': ['goat'],\n",
       " 'd': ['dog', 'donkey'],\n",
       " 'm': ['mongoose', 'malloo'],\n",
       " 'c': ['camel'],\n",
       " 'persons': [('persons', 'man', 'woman')],\n",
       " 'w': ['wombat']}"
      ]
     },
     "execution_count": 21,
     "metadata": {},
     "output_type": "execute_result"
    }
   ],
   "source": [
    "list_things = ['goat', 'dog', 'donkey', 'mulato', 'cow', 'cat', ('persons', 'man', 'woman'), \\\n",
    "               'wombat', 'mongoose', 'malloo', 'camel']\n",
    "c = groupby(list_things, key=lambda x: x[0])\n",
    "dic = {}\n",
    "for k, v in c:\n",
    "    dic[k] = list(v)\n",
    "dic"
   ]
  },
  {
   "cell_type": "code",
   "execution_count": 22,
   "metadata": {},
   "outputs": [
    {
     "data": {
      "text/plain": [
       "{'animal': [('animal', 'bear'), ('animal', 'duck')],\n",
       " 'plant': [('plant', 'cactus')],\n",
       " 'vehicle': [('vehicle', 'harley'),\n",
       "  ('vehicle', 'speed boat'),\n",
       "  ('vehicle', 'school bus')]}"
      ]
     },
     "execution_count": 22,
     "metadata": {},
     "output_type": "execute_result"
    }
   ],
   "source": [
    "things = [(\"animal\", \"bear\"), (\"animal\", \"duck\"), (\"plant\", \"cactus\"), (\"vehicle\", \"harley\"), \\\n",
    "          (\"vehicle\", \"speed boat\"), (\"vehicle\", \"school bus\")]\n",
    "\n",
    "dic = {}\n",
    "f = lambda x:x[0]\n",
    "for key,group in groupby( sorted(things, key=f), f):\n",
    "    dic[key] = list(group)\n",
    "dic"
   ]
  },
  {
   "cell_type": "code",
   "execution_count": 25,
   "metadata": {},
   "outputs": [
    {
     "data": {
      "text/plain": [
       "[0, 2, 4, 6, 8]"
      ]
     },
     "execution_count": 25,
     "metadata": {},
     "output_type": "execute_result"
    }
   ],
   "source": [
    "#List comprehensions syntax\n",
    "[x + 1 for x in (1, 2, 3)] # list comprehension, gives [2, 3, 4]\n",
    "(x + 1 for x in (1, 2, 3)) # generator expression, will yield 2, then 3, then 4\n",
    "[x for x in (1, 2, 3) if x % 2 == 0] # list comprehension with filter, gives [2]\n",
    "[x + 1 if x % 2 == 0 else x for x in (1, 2, 3)] # list comprehension with ternary\n",
    "[x + 1 if x % 2 == 0 else x for x in range(-3,4) if x > 0] # list comprehension with ternary and filtering\n",
    "{x for x in (1, 2, 2, 3)} # set comprehension, gives {1, 2, 3}\n",
    "{k: v for k, v in [('a', 1), ('b', 2)]} # dict comprehension, gives {'a': 1, 'b': 2} (python 2.7+ and 3.0+ only)\n",
    "[x + y for x in [1, 2] for y in [10, 20]] # Nested loops, gives [11, 21, 12, 22]\n",
    "[x + y for x in [1, 2, 3] if x > 2 for y in [3, 4, 5]] # Condition checked at 1st for loop\n",
    "[x + y for x in [1, 2, 3] for y in [3, 4, 5] if x > 2] # Condition checked at 2nd for loop\n",
    "[x for x in range(10) if x % 2 == 0] # Condition checked if looped numbers are odd numbers"
   ]
  },
  {
   "cell_type": "code",
   "execution_count": 11,
   "metadata": {},
   "outputs": [
    {
     "name": "stdout",
     "output_type": "stream",
     "text": [
      "1\n",
      "\n",
      "a\n",
      "\n",
      "b\n",
      "\n",
      "c\n",
      "\n",
      "2\n",
      "\n",
      "3\n",
      "\n"
     ]
    }
   ],
   "source": [
    "from contextlib import ExitStack\n",
    "#nested files\n",
    "with ExitStack() as stack:\n",
    "    res1 = stack.enter_context(open('file_1.txt', 'r' ))\n",
    "    res2 = stack.enter_context(open('file_2.txt', 'r'))\n",
    "    for i in res1:\n",
    "        print(i)\n",
    "        for j in res2:\n",
    "            print(j)\n",
    "        \n",
    "    close_all_files = stack.pop_all().close\n",
    "        "
   ]
  },
  {
   "cell_type": "code",
   "execution_count": 3,
   "metadata": {},
   "outputs": [],
   "source": [
    "from pyparsing import Word, alphas, Suppress, Combine, nums, string, Optional, Regex, delimitedList"
   ]
  },
  {
   "cell_type": "code",
   "execution_count": 6,
   "metadata": {},
   "outputs": [
    {
     "name": "stdout",
     "output_type": "stream",
     "text": [
      "[['1.21.43.12']]\n"
     ]
    }
   ],
   "source": [
    "line='this file has 1.21.43.12'\n",
    "\n",
    "integer = Word( nums )\n",
    "ipAddress = Combine(integer + \".\" + integer + \".\" + integer + \".\" + integer)\n",
    "\n",
    "ip = ipAddress.searchString(line)\n",
    "\n",
    "print(ip)\n"
   ]
  },
  {
   "cell_type": "code",
   "execution_count": 59,
   "metadata": {},
   "outputs": [
    {
     "name": "stdout",
     "output_type": "stream",
     "text": [
      "None\n",
      "-------\n",
      "{'hostname': '83.149.9.216', 'date_time': '[17/May/2015:10:05:57', 'status': '\"GET'}\n",
      "-------\n",
      "{'hostname': '83.149.9.216', 'date_time': '[17/May/2015:10:05:50', 'status': '\"GET'}\n",
      "-------\n",
      "None\n",
      "-------\n"
     ]
    }
   ],
   "source": [
    "apache_log_file = '''\n",
    "83.149.9.216 - - [17/May/2015:10:05:57 +0000] \"GET /presentations/logstash-monitorama-2013/css/fonts/Roboto-Bold.ttf HTTP/1.1\" 200 38720 \"http://semicomplete.com/presentations/logstash-monitorama-2013/\" \"Mozilla/5.0 (Macintosh; Intel Mac OS X 10_9_1) AppleWebKit/537.36 (KHTML, like Gecko) Chrome/32.0.1700.77 Safari/537.36\"\n",
    "83.149.9.216 - - [17/May/2015:10:05:50 +0000] \"GET /presentations/logstash-monitorama-2013/css/fonts/Roboto-Regular.ttf HTTP/1.1\" 200 41820 \"http://semicomplete.com/presentations/logstash-monitorama-2013/\" \"Mozilla/5.0 (Macintosh; Intel Mac OS X 10_9_1) AppleWebKit/537.36 (KHTML, like Gecko) Chrome/32.0.1700.77 Safari/537.36\"\n",
    "'''\n",
    "\n",
    "def apache_output(line):\n",
    "    split_line = line.split()\n",
    "    if split_line:\n",
    "        return {\n",
    "            \"hostname\": split_line[0],\n",
    "            \"date_time\": split_line[3],\n",
    "            \"status\" : split_line[5]\n",
    "        }\n",
    "    \n",
    "     \n",
    "for i in apache_log_file.split('\\n'):\n",
    "    print( apache_output(i) )\n",
    "    print(\"-------\")"
   ]
  },
  {
   "cell_type": "code",
   "execution_count": 8,
   "metadata": {},
   "outputs": [],
   "source": [
    "# Type Annotations\n",
    "\n",
    "def add(a,b):\n",
    "    return a + b\n",
    "\n",
    "assert add(10, 5) == 15,                  \"+ is valid for numbers\"\n",
    "assert add([1, 2], [3]) == [1, 2, 3],     \"+ is valid for lists\"\n",
    "assert add(\"hi \", \"there\") == \"hi there\", \"+ is valid for strings\""
   ]
  },
  {
   "cell_type": "code",
   "execution_count": 9,
   "metadata": {},
   "outputs": [
    {
     "name": "stdout",
     "output_type": "stream",
     "text": [
      "cannot add an int to a string\n"
     ]
    }
   ],
   "source": [
    "try:\n",
    "    add(10, \"five\")\n",
    "except TypeError:\n",
    "    print(\"cannot add an int to a string\")"
   ]
  },
  {
   "cell_type": "code",
   "execution_count": 11,
   "metadata": {},
   "outputs": [
    {
     "data": {
      "text/plain": [
       "'hitehre'"
      ]
     },
     "execution_count": 11,
     "metadata": {},
     "output_type": "execute_result"
    }
   ],
   "source": [
    "#objects would have specific types\n",
    "\n",
    "def add( a: int , b: int ) -> int:\n",
    "    return a + b\n",
    "\n",
    "add(10,15)\n",
    "add('hi', 'tehre')"
   ]
  },
  {
   "cell_type": "code",
   "execution_count": 13,
   "metadata": {},
   "outputs": [],
   "source": [
    "#How to write type annotations\n",
    "\n",
    "def total(xs: list )->float: ## type is not specific that, we want xs to be a list of float, not a list of strings\n",
    "    return sum(total)"
   ]
  },
  {
   "cell_type": "code",
   "execution_count": 14,
   "metadata": {},
   "outputs": [],
   "source": [
    "#solutions:\n",
    "\n",
    "from typing import List\n",
    "\n",
    "def total(xs: List[float] ) -> float:\n",
    "    return sum(total)"
   ]
  },
  {
   "cell_type": "code",
   "execution_count": 16,
   "metadata": {},
   "outputs": [
    {
     "data": {
      "text/plain": [
       "5"
      ]
     },
     "execution_count": 16,
     "metadata": {},
     "output_type": "execute_result"
    }
   ],
   "source": [
    "# type-Annotate for variables\n",
    "x: int = 5\n",
    "x"
   ]
  },
  {
   "cell_type": "code",
   "execution_count": 17,
   "metadata": {},
   "outputs": [],
   "source": [
    "values = [] # what's the type\n",
    "best_so_far = None # what's the type"
   ]
  },
  {
   "cell_type": "code",
   "execution_count": 18,
   "metadata": {},
   "outputs": [],
   "source": [
    "from typing import Optional\n",
    "\n",
    "values:List[int] = []\n",
    "best_so_far:Optional[float] = None #allowed either float or None"
   ]
  },
  {
   "cell_type": "code",
   "execution_count": 22,
   "metadata": {},
   "outputs": [],
   "source": [
    "#few more\n",
    "\n",
    "from typing import Dict, Iterable, Tuple\n",
    "\n",
    "#keys are strings, values are int\n",
    "\n",
    "counts: Dict[str,int] = { 'data': 1, 'science': 2 }\n",
    "\n",
    "#lists and generators are both iterables\n",
    "\n",
    "if True:\n",
    "    evens: Iterable[int] = ( x for x in range(10) if x % 2 == 0 )\n",
    "else:\n",
    "    evens = [0,2,4,6]\n",
    "    \n",
    "#tuples specify a type for each element\n",
    "triples: Tuple[int,float,int] = (10,1,2)"
   ]
  },
  {
   "cell_type": "code",
   "execution_count": 25,
   "metadata": {},
   "outputs": [],
   "source": [
    "# Type callables\n",
    "\n",
    "from typing import Callable\n",
    "# type hint says repeater is a function that takes two arguments, a string and an int, and return a string\n",
    "\n",
    "def twice( repeater: Callable[[str,int], str], s: str) -> str:\n",
    "    return repeater(s, 2)\n",
    "\n",
    "def comma_repeater( s: str, n: int ) -> str:\n",
    "    n_copies = [ s for _ in range(n)]\n",
    "    return ', '.join(n_copies)\n",
    "\n",
    "assert twice(comma_repeater, \"type hints\") == \"type hints, type hints\""
   ]
  },
  {
   "cell_type": "code",
   "execution_count": 26,
   "metadata": {},
   "outputs": [],
   "source": [
    "#one more\n",
    "Number = int\n",
    "Numbers = List[Number]\n",
    "\n",
    "def total(xs: Numbers) -> Number:\n",
    "    return sum(xs)"
   ]
  },
  {
   "cell_type": "code",
   "execution_count": 33,
   "metadata": {},
   "outputs": [
    {
     "data": {
      "text/plain": [
       "['example1@test.com', 'test11@test.com']"
      ]
     },
     "execution_count": 33,
     "metadata": {},
     "output_type": "execute_result"
    }
   ],
   "source": [
    "import re\n",
    "\n",
    "str_example = \"this is example1@test.com and test11@test.com\"\n",
    "email  =re.findall('\\S+@\\S+',str_example)\n",
    "email"
   ]
  },
  {
   "cell_type": "code",
   "execution_count": 35,
   "metadata": {},
   "outputs": [
    {
     "data": {
      "text/plain": [
       "['I', 'Like', 'this', 'book']"
      ]
     },
     "execution_count": 35,
     "metadata": {},
     "output_type": "execute_result"
    }
   ],
   "source": [
    "re.split('\\s+', 'I Like this book')\n"
   ]
  },
  {
   "cell_type": "code",
   "execution_count": 46,
   "metadata": {},
   "outputs": [
    {
     "name": "stdout",
     "output_type": "stream",
     "text": [
      " produced by martin adamson da\n",
      "302\n",
      " produced by martin adamson david widger\n",
      "['ironical--it', 'malicious--smile', 'fur--or', 'astrachan--overcoat', 'it--the', 'Italy--was', 'malady--a', 'money--and', 'little--to', 'No--Mr', 'is--where', 'I--I', 'I--', '--though', 'crime--we', 'or--judge', 'gaiters--still', '--if', 'through--well', 'say--through', 'however--and', 'Epanchin--oh', 'too--at', 'was--and', 'Andreevitch--that', 'everyone--that', 'reduce--or', 'raise--to', 'listen--and', 'history--but', 'individual--one', 'yes--I', 'but--', 't--not', 'me--then', 'perhaps--', 'Yes--those', 'me--is', 'servility--if', 'Rogojin--hereditary', 'citizen--who', 'least--goodness', 'memory--but', 'latter--since', 'Rogojin--hung', 'him--I', 'anything--she', 'old--and', 'you--scarecrow', 'certainly--certainly', 'father--I', 'Barashkoff--I', 'see--and', 'everything--Lebedeff', 'about--he', 'now--I', 'Lihachof--', 'Zaleshoff--looking', 'old--fifty', 'so--and', 'this--do', 'day--not', 'that--', 'do--by', 'know--my', 'illness--I', 'well--here', 'fellow--you']\n"
     ]
    }
   ],
   "source": [
    "import requests\n",
    "\n",
    "url = 'https://www.gutenberg.org/files/2638/2638-0.txt'\n",
    "\n",
    "def get_book(url):\n",
    "    \n",
    "    raw = requests.get(url).text\n",
    "    start = re.search(r\"\\*\\*\\* START OF THIS PROJECT GUTENBERG EBOOK .* \\*\\*\\*\",raw ).end()\n",
    "    stop = re.search(r\"II\", raw).start()\n",
    "    text = raw[start:stop]\n",
    "    return text\n",
    "\n",
    "def preprocess(sentence):\n",
    "    return re.sub('[^A-Za-z0-9.]+' , ' ', sentence).lower()\n",
    "\n",
    "#main\n",
    "book = get_book(url)\n",
    "processed_book = preprocess(book)\n",
    "print(processed_book[:30])\n",
    "\n",
    "# count number of times \"the\" is appeared in the book\n",
    "\n",
    "print( len(re.findall(r'the', processed_book )))\n",
    "\n",
    "# Replace \"i\" with \"I\"\n",
    "processed_book = re.sub(r'\\si\\s', \" I \", processed_book)\n",
    "print(processed_book[:40])\n",
    "\n",
    "#find all occurance of text in the format \"abc--xyz\"\n",
    "print(re.findall(r'[a-zA-Z0-9]*--[a-zA-Z0-9]*', book ))"
   ]
  }
 ],
 "metadata": {
  "kernelspec": {
   "display_name": "Python 3",
   "language": "python",
   "name": "python3"
  },
  "language_info": {
   "codemirror_mode": {
    "name": "ipython",
    "version": 3
   },
   "file_extension": ".py",
   "mimetype": "text/x-python",
   "name": "python",
   "nbconvert_exporter": "python",
   "pygments_lexer": "ipython3",
   "version": "3.7.1"
  }
 },
 "nbformat": 4,
 "nbformat_minor": 2
}
